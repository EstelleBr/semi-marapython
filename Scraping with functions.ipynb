{
 "cells": [
  {
   "cell_type": "markdown",
   "metadata": {},
   "source": [
    "# Imports"
   ]
  },
  {
   "cell_type": "code",
   "execution_count": null,
   "metadata": {},
   "outputs": [],
   "source": [
    "import scraping_functions as sf\n",
    "import requests\n",
    "import pandas as pd\n",
    "from bs4 import BeautifulSoup"
   ]
  },
  {
   "cell_type": "markdown",
   "metadata": {},
   "source": [
    "# Parameters"
   ]
  },
  {
   "cell_type": "code",
   "execution_count": null,
   "metadata": {},
   "outputs": [],
   "source": [
    "link = \"https://secure.tiktok.biz/results/list/sydneyhalfmarathon/\"\n",
    "dataBody = {'__EVENTTARGET': 'ctl00$pagePlaceHolder$btnNextT', '__VIEWSTATE': ''}\n",
    "distance = \"/21KM/\"\n",
    "nMax = 300 # Numbers of pages read"
   ]
  },
  {
   "cell_type": "markdown",
   "metadata": {},
   "source": [
    "# Scraping"
   ]
  },
  {
   "cell_type": "code",
   "execution_count": null,
   "metadata": {
    "scrolled": true
   },
   "outputs": [],
   "source": [
    "\n",
    "for i in range(2001, 2018):\n",
    "\n",
    "    url = link + str(i) + distance\n",
    "    fullList = []\n",
    "    k = 0\n",
    "    goToNextPage = True\n",
    "    \n",
    "    while(goToNextPage):\n",
    "        if (k == 0): \n",
    "            #Perform GET\n",
    "            r = requests.get(url)\n",
    "            \n",
    "        else:\n",
    "            # Perform POST\n",
    "            r = requests.post(url, data = dataBody)\n",
    "\n",
    "        # Parsing of useful data\n",
    "        currentStatus = r.status_code\n",
    "        if (currentStatus == 200):\n",
    "            \n",
    "            # Definition of the soup variables\n",
    "            soup = BeautifulSoup(r.content, 'html.parser')\n",
    "            state = soup.find(id=\"__VIEWSTATE\")['value']\n",
    "            button = soup.find(id='ctl00_pagePlaceHolder_btnNextT')\n",
    "            tableSoup = soup.find('table')\n",
    "\n",
    "            # Definition of the POST variables\n",
    "            noNextButton = button.has_attr('disabled')\n",
    "            dataBody['__VIEWSTATE'] = state\n",
    "            \n",
    "            # We use the parsing function\n",
    "            tableContent = sf.HTMLtableToDic(tableSoup)\n",
    "            fullList.extend(tableContent)\n",
    "            #print (tableContent)\n",
    "            print (\"Year {} - Page {}\".format(i,k+1))\n",
    "            \n",
    "            if(noNextButton):\n",
    "                goToNextPage = False\n",
    "\n",
    "        else:\n",
    "            goToNextPage = False\n",
    "            print (\"Last HTTP request has failed\")\n",
    "\n",
    "                    \n",
    "        if(k >= nMax - 1):\n",
    "            goToNextPage = False\n",
    "            print (\"Number of pages maximum defined as {} is reached\".format(nMax))\n",
    "\n",
    "        k = k + 1\n",
    "\n",
    "    print(len(fullList))\n",
    "        \n",
    "    df = pd.DataFrame(fullList)\n",
    "    df = df.iloc[:,:-1] # Drop the last column (empty)\n",
    "    print(df.tail())\n",
    "    \n",
    "    df.to_csv('data/output_{}.csv'.format(i), index=False)"
   ]
  },
  {
   "cell_type": "code",
   "execution_count": null,
   "metadata": {},
   "outputs": [],
   "source": []
  }
 ],
 "metadata": {
  "kernelspec": {
   "display_name": "Python 3",
   "language": "python",
   "name": "python3"
  },
  "language_info": {
   "codemirror_mode": {
    "name": "ipython",
    "version": 3
   },
   "file_extension": ".py",
   "mimetype": "text/x-python",
   "name": "python",
   "nbconvert_exporter": "python",
   "pygments_lexer": "ipython3",
   "version": "3.6.4"
  }
 },
 "nbformat": 4,
 "nbformat_minor": 2
}
