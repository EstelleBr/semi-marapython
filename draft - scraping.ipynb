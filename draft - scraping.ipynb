{
 "cells": [
  {
   "cell_type": "code",
   "execution_count": null,
   "metadata": {},
   "outputs": [],
   "source": [
    "import scraping_functions as sf\n",
    "import requests\n",
    "r = requests.get('http://smhhalfmarathon.com.au/results/')\n",
    "r.text"
   ]
  },
  {
   "cell_type": "code",
   "execution_count": null,
   "metadata": {},
   "outputs": [],
   "source": [
    "link = \"https://secure.tiktok.biz/results/list/sydneyhalfmarathon/\"\n",
    "distance = \"/21KM/\"\n",
    "for i in range(2001, 2018):\n",
    "    print(link + str(i) + distance)"
   ]
  },
  {
   "cell_type": "code",
   "execution_count": null,
   "metadata": {},
   "outputs": [],
   "source": [
    "r = requests.get('https://secure.tiktok.biz/results/list/sydneyhalfmarathon/2001/21KM/')\n",
    "r.text"
   ]
  },
  {
   "cell_type": "code",
   "execution_count": null,
   "metadata": {},
   "outputs": [],
   "source": [
    "from bs4 import BeautifulSoup"
   ]
  },
  {
   "cell_type": "code",
   "execution_count": null,
   "metadata": {},
   "outputs": [],
   "source": [
    "soup = BeautifulSoup(r.text, 'html.parser')"
   ]
  },
  {
   "cell_type": "code",
   "execution_count": null,
   "metadata": {},
   "outputs": [],
   "source": [
    "#len(soup.find_all('table')) \n",
    "# = 1 as there is 1 table in the page"
   ]
  },
  {
   "cell_type": "code",
   "execution_count": null,
   "metadata": {
    "scrolled": true
   },
   "outputs": [],
   "source": [
    "table_content = soup.find_all('td')\n",
    "print(table_content)"
   ]
  },
  {
   "cell_type": "code",
   "execution_count": null,
   "metadata": {},
   "outputs": [],
   "source": [
    "# Changer la source de soup ??? \n",
    "\n",
    "# Ne marche pas:\n",
    "\n",
    "# table_content = soup.find_all('table')\n",
    "# print(table_content)\n",
    "# soup2 = BeautifulSoup(table_content, 'html.parser')"
   ]
  },
  {
   "cell_type": "code",
   "execution_count": null,
   "metadata": {
    "scrolled": true
   },
   "outputs": [],
   "source": [
    "markup = '<td>1</td>, <td class=\"hidden-480\">0050</td>, <td><a href=\"../../../../view.aspx?EventID=sydneyhalfmarathon&amp;Edition=2001&amp;bib=0050\">BRETT CARTWRIGHT</a></td>, <td class=\"text-center\">01:04:46</td>, <td class=\"hidden-480 text-center\">1</td>, <td class=\"hidden-480 text-center\">M</td>, <td class=\"hidden-480 text-center\">1</td>, <td class=\"hidden-480 text-right\"><a class=\"btn green btn-xs text-right\" href=\"../../../../view.aspx?EventID=sydneyhalfmarathon&amp;Edition=2001&amp;bib=0050\"><i class=\"fa fa-play\"></i> view</a></td>, <td>2</td>, <td class=\"hidden-480\">0002</td>, <td><a href=\"../../../../view.aspx?EventID=sydneyhalfmarathon&amp;Edition=2001&amp;bib=0002\">DEAN CAVUOTO</a></td>, <td class=\"text-center\">01:05:40</td>, <td class=\"hidden-480 text-center\">2</td>, <td class=\"hidden-480 text-center\">M</td>, <td class=\"hidden-480 text-center\">2</td>, <td class=\"hidden-480 text-right\"><a class=\"btn green btn-xs text-right\" href=\"../../../../view.aspx?EventID=sydneyhalfmarathon&amp;Edition=2001&amp;bib=0002\"><i class=\"fa fa-play\"></i> view</a></td>, <td>3</td>, <td class=\"hidden-480\">0003</td>, <td><a href=\"../../../../view.aspx?EventID=sydneyhalfmarathon&amp;Edition=2001&amp;bib=0003\">CRAIG SEMPLE</a></td>, <td class=\"text-center\">01:05:47</td>, <td class=\"hidden-480 text-center\">3</td>, <td class=\"hidden-480 text-center\">M</td>, <td class=\"hidden-480 text-center\">3</td>, <td class=\"hidden-480 text-right\"><a class=\"btn green btn-xs text-right\" href=\"../../../../view.aspx?EventID=sydneyhalfmarathon&amp;Edition=2001&amp;bib=0003\"><i class=\"fa fa-play\"></i> view</a></td>, <td>4</td>, <td class=\"hidden-480\">0051</td>, <td><a href=\"../../../../view.aspx?EventID=sydneyhalfmarathon&amp;Edition=2001&amp;bib=0051\">PAT CARROLL</a></td>, <td class=\"text-center\">01:06:17</td>, <td class=\"hidden-480 text-center\">4</td>, <td class=\"hidden-480 text-center\">M</td>, <td class=\"hidden-480 text-center\">4</td>, <td class=\"hidden-480 text-right\"><a class=\"btn green btn-xs text-right\" href=\"../../../../view.aspx?EventID=sydneyhalfmarathon&amp;Edition=2001&amp;bib=0051\"><i class=\"fa fa-play\"></i> view</a></td>, <td>5</td>, <td class=\"hidden-480\">0008</td>, <td><a href=\"../../../../view.aspx?EventID=sydneyhalfmarathon&amp;Edition=2001&amp;bib=0008\">JAMES BARKER</a></td>, <td class=\"text-center\">01:06:28</td>, <td class=\"hidden-480 text-center\">5</td>, <td class=\"hidden-480 text-center\">M</td>, <td class=\"hidden-480 text-center\">5</td>, <td class=\"hidden-480 text-right\"><a class=\"btn green btn-xs text-right\" href=\"../../../../view.aspx?EventID=sydneyhalfmarathon&amp;Edition=2001&amp;bib=0008\"><i class=\"fa fa-play\"></i> view</a></td>, <td>6</td>, <td class=\"hidden-480\">0006</td>, <td><a href=\"../../../../view.aspx?EventID=sydneyhalfmarathon&amp;Edition=2001&amp;bib=0006\">TRENT HARLOW</a></td>, <td class=\"text-center\">01:06:57</td>, <td class=\"hidden-480 text-center\">6</td>, <td class=\"hidden-480 text-center\">M</td>, <td class=\"hidden-480 text-center\">6</td>, <td class=\"hidden-480 text-right\"><a class=\"btn green btn-xs text-right\" href=\"../../../../view.aspx?EventID=sydneyhalfmarathon&amp;Edition=2001&amp;bib=0006\"><i class=\"fa fa-play\"></i> view</a></td>, <td>7</td>, <td class=\"hidden-480\">0032</td>, <td><a href=\"../../../../view.aspx?EventID=sydneyhalfmarathon&amp;Edition=2001&amp;bib=0032\">JOHN W. BOWERS</a></td>, <td class=\"text-center\">01:07:04</td>, <td class=\"hidden-480 text-center\">7</td>, <td class=\"hidden-480 text-center\">M</td>, <td class=\"hidden-480 text-center\">7</td>, <td class=\"hidden-480 text-right\"><a class=\"btn green btn-xs text-right\" href=\"../../../../view.aspx?EventID=sydneyhalfmarathon&amp;Edition=2001&amp;bib=0032\"><i class=\"fa fa-play\"></i> view</a></td>, <td>8</td>, <td class=\"hidden-480\">3733</td>, <td><a href=\"../../../../view.aspx?EventID=sydneyhalfmarathon&amp;Edition=2001&amp;bib=3733\">CHAD ROBERTS</a></td>, <td class=\"text-center\">01:07:42</td>, <td class=\"hidden-480 text-center\">8</td>, <td class=\"hidden-480 text-center\">M</td>, <td class=\"hidden-480 text-center\">8</td>, <td class=\"hidden-480 text-right\"><a class=\"btn green btn-xs text-right\" href=\"../../../../view.aspx?EventID=sydneyhalfmarathon&amp;Edition=2001&amp;bib=3733\"><i class=\"fa fa-play\"></i> view</a></td>, <td>9</td>, <td class=\"hidden-480\">0011</td>, <td><a href=\"../../../../view.aspx?EventID=sydneyhalfmarathon&amp;Edition=2001&amp;bib=0011\">JAMIE HARRISON</a></td>, <td class=\"text-center\">01:08:38</td>, <td class=\"hidden-480 text-center\">9</td>, <td class=\"hidden-480 text-center\">M</td>, <td class=\"hidden-480 text-center\">9</td>, <td class=\"hidden-480 text-right\"><a class=\"btn green btn-xs text-right\" href=\"../../../../view.aspx?EventID=sydneyhalfmarathon&amp;Edition=2001&amp;bib=0011\"><i class=\"fa fa-play\"></i> view</a></td>, <td>10</td>, <td class=\"hidden-480\">0016</td>, <td><a href=\"../../../../view.aspx?EventID=sydneyhalfmarathon&amp;Edition=2001&amp;bib=0016\">LENNON WICKS</a></td>, <td class=\"text-center\">01:08:48</td>, <td class=\"hidden-480 text-center\">10</td>, <td class=\"hidden-480 text-center\">M</td>, <td class=\"hidden-480 text-center\">10</td>, <td class=\"hidden-480 text-right\"><a class=\"btn green btn-xs text-right\" href=\"../../../../view.aspx?EventID=sydneyhalfmarathon&amp;Edition=2001&amp;bib=0016\"><i class=\"fa fa-play\"></i> view</a></td>, <td>11</td>, <td class=\"hidden-480\">0042</td>, <td><a href=\"../../../../view.aspx?EventID=sydneyhalfmarathon&amp;Edition=2001&amp;bib=0042\">ROWAN WALKER</a></td>, <td class=\"text-center\">01:08:56</td>, <td class=\"hidden-480 text-center\">11</td>, <td class=\"hidden-480 text-center\">M</td>, <td class=\"hidden-480 text-center\">11</td>, <td class=\"hidden-480 text-right\"><a class=\"btn green btn-xs text-right\" href=\"../../../../view.aspx?EventID=sydneyhalfmarathon&amp;Edition=2001&amp;bib=0042\"><i class=\"fa fa-play\"></i> view</a></td>, <td>12</td>, <td class=\"hidden-480\">4962</td>, <td><a href=\"../../../../view.aspx?EventID=sydneyhalfmarathon&amp;Edition=2001&amp;bib=4962\">MUSTAPHA TAKIDDINE</a></td>, <td class=\"text-center\">01:08:58</td>, <td class=\"hidden-480 text-center\">12</td>, <td class=\"hidden-480 text-center\">M</td>, <td class=\"hidden-480 text-center\">12</td>, <td class=\"hidden-480 text-right\"><a class=\"btn green btn-xs text-right\" href=\"../../../../view.aspx?EventID=sydneyhalfmarathon&amp;Edition=2001&amp;bib=4962\"><i class=\"fa fa-play\"></i> view</a></td>, <td>13</td>, <td class=\"hidden-480\">0014</td>, <td><a href=\"../../../../view.aspx?EventID=sydneyhalfmarathon&amp;Edition=2001&amp;bib=0014\">KEVIN MOORE</a></td>, <td class=\"text-center\">01:09:00</td>, <td class=\"hidden-480 text-center\">13</td>, <td class=\"hidden-480 text-center\">M</td>, <td class=\"hidden-480 text-center\">13</td>, <td class=\"hidden-480 text-right\"><a class=\"btn green btn-xs text-right\" href=\"../../../../view.aspx?EventID=sydneyhalfmarathon&amp;Edition=2001&amp;bib=0014\"><i class=\"fa fa-play\"></i> view</a></td>, <td>14</td>, <td class=\"hidden-480\">0053</td>, <td><a href=\"../../../../view.aspx?EventID=sydneyhalfmarathon&amp;Edition=2001&amp;bib=0053\">JEREMEY HORNE</a></td>, <td class=\"text-center\">01:09:08</td>, <td class=\"hidden-480 text-center\">14</td>, <td class=\"hidden-480 text-center\">M</td>, <td class=\"hidden-480 text-center\">14</td>, <td class=\"hidden-480 text-right\"><a class=\"btn green btn-xs text-right\" href=\"../../../../view.aspx?EventID=sydneyhalfmarathon&amp;Edition=2001&amp;bib=0053\"><i class=\"fa fa-play\"></i> view</a></td>, <td>15</td>, <td class=\"hidden-480\">0009</td>, <td><a href=\"../../../../view.aspx?EventID=sydneyhalfmarathon&amp;Edition=2001&amp;bib=0009\">DEAN DEGAN</a></td>, <td class=\"text-center\">01:09:54</td>, <td class=\"hidden-480 text-center\">15</td>, <td class=\"hidden-480 text-center\">M</td>, <td class=\"hidden-480 text-center\">15</td>, <td class=\"hidden-480 text-right\"><a class=\"btn green btn-xs text-right\" href=\"../../../../view.aspx?EventID=sydneyhalfmarathon&amp;Edition=2001&amp;bib=0009\"><i class=\"fa fa-play\"></i> view</a></td>, <td>16</td>, <td class=\"hidden-480\">0020</td>, <td><a href=\"../../../../view.aspx?EventID=sydneyhalfmarathon&amp;Edition=2001&amp;bib=0020\">DARREN BARLOW</a></td>, <td class=\"text-center\">01:10:12</td>, <td class=\"hidden-480 text-center\">16</td>, <td class=\"hidden-480 text-center\">M</td>, <td class=\"hidden-480 text-center\">16</td>, <td class=\"hidden-480 text-right\"><a class=\"btn green btn-xs text-right\" href=\"../../../../view.aspx?EventID=sydneyhalfmarathon&amp;Edition=2001&amp;bib=0020\"><i class=\"fa fa-play\"></i> view</a></td>, <td>17</td>, <td class=\"hidden-480\">0033</td>, <td><a href=\"../../../../view.aspx?EventID=sydneyhalfmarathon&amp;Edition=2001&amp;bib=0033\">HELMUTH WEGNER</a></td>, <td class=\"text-center\">01:10:20</td>, <td class=\"hidden-480 text-center\">17</td>, <td class=\"hidden-480 text-center\">M</td>, <td class=\"hidden-480 text-center\">17</td>, <td class=\"hidden-480 text-right\"><a class=\"btn green btn-xs text-right\" href=\"../../../../view.aspx?EventID=sydneyhalfmarathon&amp;Edition=2001&amp;bib=0033\"><i class=\"fa fa-play\"></i> view</a></td>, <td>18</td>, <td class=\"hidden-480\">0049</td>, <td><a href=\"../../../../view.aspx?EventID=sydneyhalfmarathon&amp;Edition=2001&amp;bib=0049\">ROBIN WHITELEY</a></td>, <td class=\"text-center\">01:10:40</td>, <td class=\"hidden-480 text-center\">18</td>, <td class=\"hidden-480 text-center\">M</td>, <td class=\"hidden-480 text-center\">18</td>, <td class=\"hidden-480 text-right\"><a class=\"btn green btn-xs text-right\" href=\"../../../../view.aspx?EventID=sydneyhalfmarathon&amp;Edition=2001&amp;bib=0049\"><i class=\"fa fa-play\"></i> view</a></td>, <td>19</td>, <td class=\"hidden-480\">0043</td>, <td><a href=\"../../../../view.aspx?EventID=sydneyhalfmarathon&amp;Edition=2001&amp;bib=0043\">DAMON HARRIS</a></td>, <td class=\"text-center\">01:10:58</td>, <td class=\"hidden-480 text-center\">19</td>, <td class=\"hidden-480 text-center\">M</td>, <td class=\"hidden-480 text-center\">19</td>, <td class=\"hidden-480 text-right\"><a class=\"btn green btn-xs text-right\" href=\"../../../../view.aspx?EventID=sydneyhalfmarathon&amp;Edition=2001&amp;bib=0043\"><i class=\"fa fa-play\"></i> view</a></td>, <td>20</td>, <td class=\"hidden-480\">0004</td>, <td><a href=\"../../../../view.aspx?EventID=sydneyhalfmarathon&amp;Edition=2001&amp;bib=0004\">PAUL ARTHUR</a></td>, <td class=\"text-center\">01:11:12</td>, <td class=\"hidden-480 text-center\">20</td>, <td class=\"hidden-480 text-center\">M</td>, <td class=\"hidden-480 text-center\">20</td>, <td class=\"hidden-480 text-right\"><a class=\"btn green btn-xs text-right\" href=\"../../../../view.aspx?EventID=sydneyhalfmarathon&amp;Edition=2001&amp;bib=0004\"><i class=\"fa fa-play\"></i> view</a></td>, <td>21</td>, <td class=\"hidden-480\">0022</td>, <td><a href=\"../../../../view.aspx?EventID=sydneyhalfmarathon&amp;Edition=2001&amp;bib=0022\">PAUL MICALE</a></td>, <td class=\"text-center\">01:11:12</td>, <td class=\"hidden-480 text-center\">20</td>, <td class=\"hidden-480 text-center\">M</td>, <td class=\"hidden-480 text-center\">20</td>, <td class=\"hidden-480 text-right\"><a class=\"btn green btn-xs text-right\" href=\"../../../../view.aspx?EventID=sydneyhalfmarathon&amp;Edition=2001&amp;bib=0022\"><i class=\"fa fa-play\"></i> view</a></td>, <td>22</td>, <td class=\"hidden-480\">0041</td>, <td><a href=\"../../../../view.aspx?EventID=sydneyhalfmarathon&amp;Edition=2001&amp;bib=0041\">CHRIS TRUSCOTT</a></td>, <td class=\"text-center\">01:11:26</td>, <td class=\"hidden-480 text-center\">22</td>, <td class=\"hidden-480 text-center\">M</td>, <td class=\"hidden-480 text-center\">22</td>, <td class=\"hidden-480 text-right\"><a class=\"btn green btn-xs text-right\" href=\"../../../../view.aspx?EventID=sydneyhalfmarathon&amp;Edition=2001&amp;bib=0041\"><i class=\"fa fa-play\"></i> view</a></td>, <td>23</td>, <td class=\"hidden-480\">0034</td>, <td><a href=\"../../../../view.aspx?EventID=sydneyhalfmarathon&amp;Edition=2001&amp;bib=0034\">JOHN YOUNG</a></td>, <td class=\"text-center\">01:11:42</td>, <td class=\"hidden-480 text-center\">23</td>, <td class=\"hidden-480 text-center\">M</td>, <td class=\"hidden-480 text-center\">23</td>, <td class=\"hidden-480 text-right\"><a class=\"btn green btn-xs text-right\" href=\"../../../../view.aspx?EventID=sydneyhalfmarathon&amp;Edition=2001&amp;bib=0034\"><i class=\"fa fa-play\"></i> view</a></td>, <td>24</td>, <td class=\"hidden-480\">4624</td>, <td><a href=\"../../../../view.aspx?EventID=sydneyhalfmarathon&amp;Edition=2001&amp;bib=4624\">SAXON MOSELEY</a></td>, <td class=\"text-center\">01:12:02</td>, <td class=\"hidden-480 text-center\">24</td>, <td class=\"hidden-480 text-center\">M</td>, <td class=\"hidden-480 text-center\">24</td>, <td class=\"hidden-480 text-right\"><a class=\"btn green btn-xs text-right\" href=\"../../../../view.aspx?EventID=sydneyhalfmarathon&amp;Edition=2001&amp;bib=4624\"><i class=\"fa fa-play\"></i> view</a></td>, <td>25</td>, <td class=\"hidden-480\">3529</td>, <td><a href=\"../../../../view.aspx?EventID=sydneyhalfmarathon&amp;Edition=2001&amp;bib=3529\">JAY PHILLPOTTS</a></td>, <td class=\"text-center\">01:12:24</td>, <td class=\"hidden-480 text-center\">25</td>, <td class=\"hidden-480 text-center\">M</td>, <td class=\"hidden-480 text-center\">25</td>, <td class=\"hidden-480 text-right\"><a class=\"btn green btn-xs text-right\" href=\"../../../../view.aspx?EventID=sydneyhalfmarathon&amp;Edition=2001&amp;bib=3529\"><i class=\"fa fa-play\"></i> view</a></td>, <td>26</td>, <td class=\"hidden-480\">0026</td>, <td><a href=\"../../../../view.aspx?EventID=sydneyhalfmarathon&amp;Edition=2001&amp;bib=0026\">NICHOLAS BENNETT</a></td>, <td class=\"text-center\">01:12:54</td>, <td class=\"hidden-480 text-center\">26</td>, <td class=\"hidden-480 text-center\">M</td>, <td class=\"hidden-480 text-center\">26</td>, <td class=\"hidden-480 text-right\"><a class=\"btn green btn-xs text-right\" href=\"../../../../view.aspx?EventID=sydneyhalfmarathon&amp;Edition=2001&amp;bib=0026\"><i class=\"fa fa-play\"></i> view</a></td>, <td>27</td>, <td class=\"hidden-480\">0013</td>, <td><a href=\"../../../../view.aspx?EventID=sydneyhalfmarathon&amp;Edition=2001&amp;bib=0013\">ANDREW JOHN CROWHURST</a></td>, <td class=\"text-center\">01:12:58</td>, <td class=\"hidden-480 text-center\">27</td>, <td class=\"hidden-480 text-center\">M</td>, <td class=\"hidden-480 text-center\">27</td>, <td class=\"hidden-480 text-right\"><a class=\"btn green btn-xs text-right\" href=\"../../../../view.aspx?EventID=sydneyhalfmarathon&amp;Edition=2001&amp;bib=0013\"><i class=\"fa fa-play\"></i> view</a></td>, <td>28</td>, <td class=\"hidden-480\">0031</td>, <td><a href=\"../../../../view.aspx?EventID=sydneyhalfmarathon&amp;Edition=2001&amp;bib=0031\">GREGORY GRAVES</a></td>, <td class=\"text-center\">01:13:14</td>, <td class=\"hidden-480 text-center\">28</td>, <td class=\"hidden-480 text-center\">M</td>, <td class=\"hidden-480 text-center\">28</td>, <td class=\"hidden-480 text-right\"><a class=\"btn green btn-xs text-right\" href=\"../../../../view.aspx?EventID=sydneyhalfmarathon&amp;Edition=2001&amp;bib=0031\"><i class=\"fa fa-play\"></i> view</a></td>, <td>29</td>, <td class=\"hidden-480\">2624</td>, <td><a href=\"../../../../view.aspx?EventID=sydneyhalfmarathon&amp;Edition=2001&amp;bib=2624\">DAMIEN ANGUS</a></td>, <td class=\"text-center\">01:13:14</td>, <td class=\"hidden-480 text-center\">28</td>, <td class=\"hidden-480 text-center\">M</td>, <td class=\"hidden-480 text-center\">28</td>, <td class=\"hidden-480 text-right\"><a class=\"btn green btn-xs text-right\" href=\"../../../../view.aspx?EventID=sydneyhalfmarathon&amp;Edition=2001&amp;bib=2624\"><i class=\"fa fa-play\"></i> view</a></td>, <td>30</td>, <td class=\"hidden-480\">2585</td>, <td><a href=\"../../../../view.aspx?EventID=sydneyhalfmarathon&amp;Edition=2001&amp;bib=2585\">IAN ROSS</a></td>, <td class=\"text-center\">01:14:18</td>, <td class=\"hidden-480 text-center\">30</td>, <td class=\"hidden-480 text-center\">M</td>, <td class=\"hidden-480 text-center\">30</td>, <td class=\"hidden-480 text-right\"><a class=\"btn green btn-xs text-right\" href=\"../../../../view.aspx?EventID=sydneyhalfmarathon&amp;Edition=2001&amp;bib=2585\"><i class=\"fa fa-play\"></i> view</a></td>, <td>31</td>, <td class=\"hidden-480\">0030</td>, <td><a href=\"../../../../view.aspx?EventID=sydneyhalfmarathon&amp;Edition=2001&amp;bib=0030\">JOSHUA J. DOWLING</a></td>, <td class=\"text-center\">01:14:22</td>, <td class=\"hidden-480 text-center\">31</td>, <td class=\"hidden-480 text-center\">M</td>, <td class=\"hidden-480 text-center\">31</td>, <td class=\"hidden-480 text-right\"><a class=\"btn green btn-xs text-right\" href=\"../../../../view.aspx?EventID=sydneyhalfmarathon&amp;Edition=2001&amp;bib=0030\"><i class=\"fa fa-play\"></i> view</a></td>, <td>32</td>, <td class=\"hidden-480\">0082</td>, <td><a href=\"../../../../view.aspx?EventID=sydneyhalfmarathon&amp;Edition=2001&amp;bib=0082\">ELIZABETH MILLER</a></td>, <td class=\"text-center\">01:14:40</td>, <td class=\"hidden-480 text-center\">32</td>, <td class=\"hidden-480 text-center\">F</td>, <td class=\"hidden-480 text-center\">1</td>, <td class=\"hidden-480 text-right\"><a class=\"btn green btn-xs text-right\" href=\"../../../../view.aspx?EventID=sydneyhalfmarathon&amp;Edition=2001&amp;bib=0082\"><i class=\"fa fa-play\"></i> view</a></td>, <td>33</td>, <td class=\"hidden-480\">2354</td>, <td><a href=\"../../../../view.aspx?EventID=sydneyhalfmarathon&amp;Edition=2001&amp;bib=2354\">JONATHAN BLAKE</a></td>, <td class=\"text-center\">01:15:10</td>, <td class=\"hidden-480 text-center\">33</td>, <td class=\"hidden-480 text-center\">M</td>, <td class=\"hidden-480 text-center\">32</td>, <td class=\"hidden-480 text-right\"><a class=\"btn green btn-xs text-right\" href=\"../../../../view.aspx?EventID=sydneyhalfmarathon&amp;Edition=2001&amp;bib=2354\"><i class=\"fa fa-play\"></i> view</a></td>, <td>34</td>, <td class=\"hidden-480\">0019</td>, <td><a href=\"../../../../view.aspx?EventID=sydneyhalfmarathon&amp;Edition=2001&amp;bib=0019\">DANIEL NESCI</a></td>, <td class=\"text-center\">01:15:20</td>, <td class=\"hidden-480 text-center\">34</td>, <td class=\"hidden-480 text-center\">M</td>, <td class=\"hidden-480 text-center\">33</td>, <td class=\"hidden-480 text-right\"><a class=\"btn green btn-xs text-right\" href=\"../../../../view.aspx?EventID=sydneyhalfmarathon&amp;Edition=2001&amp;bib=0019\"><i class=\"fa fa-play\"></i> view</a></td>, <td>35</td>, <td class=\"hidden-480\">4627</td>, <td><a href=\"../../../../view.aspx?EventID=sydneyhalfmarathon&amp;Edition=2001&amp;bib=4627\">EVAN KOLBE</a></td>, <td class=\"text-center\">01:15:24</td>, <td class=\"hidden-480 text-center\">35</td>, <td class=\"hidden-480 text-center\">M</td>, <td class=\"hidden-480 text-center\">34</td>, <td class=\"hidden-480 text-right\"><a class=\"btn green btn-xs text-right\" href=\"../../../../view.aspx?EventID=sydneyhalfmarathon&amp;Edition=2001&amp;bib=4627\"><i class=\"fa fa-play\"></i> view</a></td>, <td>36</td>, <td class=\"hidden-480\">3864</td>, <td><a href=\"../../../../view.aspx?EventID=sydneyhalfmarathon&amp;Edition=2001&amp;bib=3864\">JIM OWEN</a></td>, <td class=\"text-center\">01:15:30</td>, <td class=\"hidden-480 text-center\">36</td>, <td class=\"hidden-480 text-center\">M</td>, <td class=\"hidden-480 text-center\">35</td>, <td class=\"hidden-480 text-right\"><a class=\"btn green btn-xs text-right\" href=\"../../../../view.aspx?EventID=sydneyhalfmarathon&amp;Edition=2001&amp;bib=3864\"><i class=\"fa fa-play\"></i> view</a></td>, <td>37</td>, <td class=\"hidden-480\">0025</td>, <td><a href=\"../../../../view.aspx?EventID=sydneyhalfmarathon&amp;Edition=2001&amp;bib=0025\">GEOFFREY IAN BRUCE</a></td>, <td class=\"text-center\">01:15:32</td>, <td class=\"hidden-480 text-center\">37</td>, <td class=\"hidden-480 text-center\">M</td>, <td class=\"hidden-480 text-center\">36</td>, <td class=\"hidden-480 text-right\"><a class=\"btn green btn-xs text-right\" href=\"../../../../view.aspx?EventID=sydneyhalfmarathon&amp;Edition=2001&amp;bib=0025\"><i class=\"fa fa-play\"></i> view</a></td>, <td>38</td>, <td class=\"hidden-480\">0039</td>, <td><a href=\"../../../../view.aspx?EventID=sydneyhalfmarathon&amp;Edition=2001&amp;bib=0039\">PETER TRUSCOTT</a></td>, <td class=\"text-center\">01:15:40</td>, <td class=\"hidden-480 text-center\">38</td>, <td class=\"hidden-480 text-center\">M</td>, <td class=\"hidden-480 text-center\">37</td>, <td class=\"hidden-480 text-right\"><a class=\"btn green btn-xs text-right\" href=\"../../../../view.aspx?EventID=sydneyhalfmarathon&amp;Edition=2001&amp;bib=0039\"><i class=\"fa fa-play\"></i> view</a></td>, <td>39</td>, <td class=\"hidden-480\">3233</td>, <td><a href=\"../../../../view.aspx?EventID=sydneyhalfmarathon&amp;Edition=2001&amp;bib=3233\">MICHAEL ARNDELL</a></td>, <td class=\"text-center\">01:15:44</td>, <td class=\"hidden-480 text-center\">39</td>, <td class=\"hidden-480 text-center\">M</td>, <td class=\"hidden-480 text-center\">38</td>, <td class=\"hidden-480 text-right\"><a class=\"btn green btn-xs text-right\" href=\"../../../../view.aspx?EventID=sydneyhalfmarathon&amp;Edition=2001&amp;bib=3233\"><i class=\"fa fa-play\"></i> view</a></td>, <td>40</td>, <td class=\"hidden-480\">1806</td>, <td><a href=\"../../../../view.aspx?EventID=sydneyhalfmarathon&amp;Edition=2001&amp;bib=1806\">RAYMOND WAREHAM</a></td>, <td class=\"text-center\">01:16:02</td>, <td class=\"hidden-480 text-center\">40</td>, <td class=\"hidden-480 text-center\">M</td>, <td class=\"hidden-480 text-center\">39</td>, <td class=\"hidden-480 text-right\"><a class=\"btn green btn-xs text-right\" href=\"../../../../view.aspx?EventID=sydneyhalfmarathon&amp;Edition=2001&amp;bib=1806\"><i class=\"fa fa-play\"></i> view</a></td>, <td>41</td>, <td class=\"hidden-480\">0493</td>, <td><a href=\"../../../../view.aspx?EventID=sydneyhalfmarathon&amp;Edition=2001&amp;bib=0493\">CALEB WEGNER</a></td>, <td class=\"text-center\">01:16:10</td>, <td class=\"hidden-480 text-center\">41</td>, <td class=\"hidden-480 text-center\">M</td>, <td class=\"hidden-480 text-center\">40</td>, <td class=\"hidden-480 text-right\"><a class=\"btn green btn-xs text-right\" href=\"../../../../view.aspx?EventID=sydneyhalfmarathon&amp;Edition=2001&amp;bib=0493\"><i class=\"fa fa-play\"></i> view</a></td>, <td>42</td>, <td class=\"hidden-480\">1448</td>, <td><a href=\"../../../../view.aspx?EventID=sydneyhalfmarathon&amp;Edition=2001&amp;bib=1448\">PHIL SOUTH</a></td>, <td class=\"text-center\">01:16:12</td>, <td class=\"hidden-480 text-center\">42</td>, <td class=\"hidden-480 text-center\">M</td>, <td class=\"hidden-480 text-center\">41</td>, <td class=\"hidden-480 text-right\"><a class=\"btn green btn-xs text-right\" href=\"../../../../view.aspx?EventID=sydneyhalfmarathon&amp;Edition=2001&amp;bib=1448\"><i class=\"fa fa-play\"></i> view</a></td>, <td>43</td>, <td class=\"hidden-480\">2636</td>, <td><a href=\"../../../../view.aspx?EventID=sydneyhalfmarathon&amp;Edition=2001&amp;bib=2636\">BRENDAN HILL</a></td>, <td class=\"text-center\">01:16:16</td>, <td class=\"hidden-480 text-center\">43</td>, <td class=\"hidden-480 text-center\">M</td>, <td class=\"hidden-480 text-center\">42</td>, <td class=\"hidden-480 text-right\"><a class=\"btn green btn-xs text-right\" href=\"../../../../view.aspx?EventID=sydneyhalfmarathon&amp;Edition=2001&amp;bib=2636\"><i class=\"fa fa-play\"></i> view</a></td>, <td>44</td>, <td class=\"hidden-480\">0083</td>, <td><a href=\"../../../../view.aspx?EventID=sydneyhalfmarathon&amp;Edition=2001&amp;bib=0083\">EMMA CARNEY</a></td>, <td class=\"text-center\">01:16:30</td>, <td class=\"hidden-480 text-center\">44</td>, <td class=\"hidden-480 text-center\">F</td>, <td class=\"hidden-480 text-center\">2</td>, <td class=\"hidden-480 text-right\"><a class=\"btn green btn-xs text-right\" href=\"../../../../view.aspx?EventID=sydneyhalfmarathon&amp;Edition=2001&amp;bib=0083\"><i class=\"fa fa-play\"></i> view</a></td>, <td>45</td>, <td class=\"hidden-480\">4760</td>, <td><a href=\"../../../../view.aspx?EventID=sydneyhalfmarathon&amp;Edition=2001&amp;bib=4760\">DAVID FIELD</a></td>, <td class=\"text-center\">01:16:36</td>, <td class=\"hidden-480 text-center\">45</td>, <td class=\"hidden-480 text-center\">M</td>, <td class=\"hidden-480 text-center\">43</td>, <td class=\"hidden-480 text-right\"><a class=\"btn green btn-xs text-right\" href=\"../../../../view.aspx?EventID=sydneyhalfmarathon&amp;Edition=2001&amp;bib=4760\"><i class=\"fa fa-play\"></i> view</a></td>, <td>46</td>, <td class=\"hidden-480\">4022</td>, <td><a href=\"../../../../view.aspx?EventID=sydneyhalfmarathon&amp;Edition=2001&amp;bib=4022\">MICHAEL LYNCH</a></td>, <td class=\"text-center\">01:16:50</td>, <td class=\"hidden-480 text-center\">46</td>, <td class=\"hidden-480 text-center\">M</td>, <td class=\"hidden-480 text-center\">44</td>, <td class=\"hidden-480 text-right\"><a class=\"btn green btn-xs text-right\" href=\"../../../../view.aspx?EventID=sydneyhalfmarathon&amp;Edition=2001&amp;bib=4022\"><i class=\"fa fa-play\"></i> view</a></td>, <td>47</td>, <td class=\"hidden-480\">4710</td>, <td><a href=\"../../../../view.aspx?EventID=sydneyhalfmarathon&amp;Edition=2001&amp;bib=4710\">TRAVIS SHIELDS</a></td>, <td class=\"text-center\">01:16:56</td>, <td class=\"hidden-480 text-center\">47</td>, <td class=\"hidden-480 text-center\">M</td>, <td class=\"hidden-480 text-center\">45</td>, <td class=\"hidden-480 text-right\"><a class=\"btn green btn-xs text-right\" href=\"../../../../view.aspx?EventID=sydneyhalfmarathon&amp;Edition=2001&amp;bib=4710\"><i class=\"fa fa-play\"></i> view</a></td>, <td>48</td>, <td class=\"hidden-480\">3695</td>, <td><a href=\"../../../../view.aspx?EventID=sydneyhalfmarathon&amp;Edition=2001&amp;bib=3695\">CONOR KIERNAN</a></td>, <td class=\"text-center\">01:17:02</td>, <td class=\"hidden-480 text-center\">48</td>, <td class=\"hidden-480 text-center\">M</td>, <td class=\"hidden-480 text-center\">46</td>, <td class=\"hidden-480 text-right\"><a class=\"btn green btn-xs text-right\" href=\"../../../../view.aspx?EventID=sydneyhalfmarathon&amp;Edition=2001&amp;bib=3695\"><i class=\"fa fa-play\"></i> view</a></td>, <td>49</td>, <td class=\"hidden-480\">0018</td>, <td><a href=\"../../../../view.aspx?EventID=sydneyhalfmarathon&amp;Edition=2001&amp;bib=0018\">RAFAEL MORIANA</a></td>, <td class=\"text-center\">01:17:20</td>, <td class=\"hidden-480 text-center\">49</td>, <td class=\"hidden-480 text-center\">M</td>, <td class=\"hidden-480 text-center\">47</td>, <td class=\"hidden-480 text-right\"><a class=\"btn green btn-xs text-right\" href=\"../../../../view.aspx?EventID=sydneyhalfmarathon&amp;Edition=2001&amp;bib=0018\"><i class=\"fa fa-play\"></i> view</a></td>, <td>50</td>, <td class=\"hidden-480\">1106</td>, <td><a href=\"../../../../view.aspx?EventID=sydneyhalfmarathon&amp;Edition=2001&amp;bib=1106\">ANDREW ADAMS</a></td>, <td class=\"text-center\">01:17:22</td>, <td class=\"hidden-480 text-center\">50</td>, <td class=\"hidden-480 text-center\">M</td>, <td class=\"hidden-480 text-center\">48</td>, <td class=\"hidden-480 text-right\"><a class=\"btn green btn-xs text-right\" href=\"../../../../view.aspx?EventID=sydneyhalfmarathon&amp;Edition=2001&amp;bib=1106\"><i class=\"fa fa-play\"></i> view</a></td>, <td>51</td>, <td class=\"hidden-480\">3612</td>, <td><a href=\"../../../../view.aspx?EventID=sydneyhalfmarathon&amp;Edition=2001&amp;bib=3612\">CHRISTOPHER DWYER</a></td>, <td class=\"text-center\">01:17:24</td>, <td class=\"hidden-480 text-center\">51</td>, <td class=\"hidden-480 text-center\">M</td>, <td class=\"hidden-480 text-center\">49</td>, <td class=\"hidden-480 text-right\"><a class=\"btn green btn-xs text-right\" href=\"../../../../view.aspx?EventID=sydneyhalfmarathon&amp;Edition=2001&amp;bib=3612\"><i class=\"fa fa-play\"></i> view</a></td>, <td>52</td>, <td class=\"hidden-480\">4162</td>, <td><a href=\"../../../../view.aspx?EventID=sydneyhalfmarathon&amp;Edition=2001&amp;bib=4162\">EDISON HEBEL</a></td>, <td class=\"text-center\">01:17:26</td>, <td class=\"hidden-480 text-center\">52</td>, <td class=\"hidden-480 text-center\">M</td>, <td class=\"hidden-480 text-center\">50</td>, <td class=\"hidden-480 text-right\"><a class=\"btn green btn-xs text-right\" href=\"../../../../view.aspx?EventID=sydneyhalfmarathon&amp;Edition=2001&amp;bib=4162\"><i class=\"fa fa-play\"></i> view</a></td>, <td>53</td>, <td class=\"hidden-480\">4944</td>, <td><a href=\"../../../../view.aspx?EventID=sydneyhalfmarathon&amp;Edition=2001&amp;bib=4944\">MICHAEL HURWITZ</a></td>, <td class=\"text-center\">01:17:34</td>, <td class=\"hidden-480 text-center\">53</td>, <td class=\"hidden-480 text-center\">M</td>, <td class=\"hidden-480 text-center\">51</td>, <td class=\"hidden-480 text-right\"><a class=\"btn green btn-xs text-right\" href=\"../../../../view.aspx?EventID=sydneyhalfmarathon&amp;Edition=2001&amp;bib=4944\"><i class=\"fa fa-play\"></i> view</a></td>, <td>54</td>, <td class=\"hidden-480\">1512</td>, <td><a href=\"../../../../view.aspx?EventID=sydneyhalfmarathon&amp;Edition=2001&amp;bib=1512\">ANTHONY SANBROOK</a></td>, <td class=\"text-center\">01:17:44</td>, <td class=\"hidden-480 text-center\">54</td>, <td class=\"hidden-480 text-center\">M</td>, <td class=\"hidden-480 text-center\">52</td>, <td class=\"hidden-480 text-right\"><a class=\"btn green btn-xs text-right\" href=\"../../../../view.aspx?EventID=sydneyhalfmarathon&amp;Edition=2001&amp;bib=1512\"><i class=\"fa fa-play\"></i> view</a></td>, <td>55</td>, <td class=\"hidden-480\">2951</td>, <td><a href=\"../../../../view.aspx?EventID=sydneyhalfmarathon&amp;Edition=2001&amp;bib=2951\">WARREN MCCOURT</a></td>, <td class=\"text-center\">01:17:46</td>, <td class=\"hidden-480 text-center\">55</td>, <td class=\"hidden-480 text-center\">M</td>, <td class=\"hidden-480 text-center\">53</td>, <td class=\"hidden-480 text-right\"><a class=\"btn green btn-xs text-right\" href=\"../../../../view.aspx?EventID=sydneyhalfmarathon&amp;Edition=2001&amp;bib=2951\"><i class=\"fa fa-play\"></i> view</a></td>, <td>56</td>, <td class=\"hidden-480\">0897</td>, <td><a href=\"../../../../view.aspx?EventID=sydneyhalfmarathon&amp;Edition=2001&amp;bib=0897\">DAMIEN MEYER</a></td>, <td class=\"text-center\">01:17:50</td>, <td class=\"hidden-480 text-center\">56</td>, <td class=\"hidden-480 text-center\">M</td>, <td class=\"hidden-480 text-center\">54</td>, <td class=\"hidden-480 text-right\"><a class=\"btn green btn-xs text-right\" href=\"../../../../view.aspx?EventID=sydneyhalfmarathon&amp;Edition=2001&amp;bib=0897\"><i class=\"fa fa-play\"></i> view</a></td>, <td>57</td>, <td class=\"hidden-480\">4286</td>, <td><a href=\"../../../../view.aspx?EventID=sydneyhalfmarathon&amp;Edition=2001&amp;bib=4286\">ROSS ALAN SINCLAIR</a></td>, <td class=\"text-center\">01:18:06</td>, <td class=\"hidden-480 text-center\">57</td>, <td class=\"hidden-480 text-center\">M</td>, <td class=\"hidden-480 text-center\">55</td>, <td class=\"hidden-480 text-right\"><a class=\"btn green btn-xs text-right\" href=\"../../../../view.aspx?EventID=sydneyhalfmarathon&amp;Edition=2001&amp;bib=4286\"><i class=\"fa fa-play\"></i> view</a></td>, <td>58</td>, <td class=\"hidden-480\">4688</td>, <td><a href=\"../../../../view.aspx?EventID=sydneyhalfmarathon&amp;Edition=2001&amp;bib=4688\">NEIL BARNETT</a></td>, <td class=\"text-center\">01:18:08</td>, <td class=\"hidden-480 text-center\">58</td>, <td class=\"hidden-480 text-center\">M</td>, <td class=\"hidden-480 text-center\">56</td>, <td class=\"hidden-480 text-right\"><a class=\"btn green btn-xs text-right\" href=\"../../../../view.aspx?EventID=sydneyhalfmarathon&amp;Edition=2001&amp;bib=4688\"><i class=\"fa fa-play\"></i> view</a></td>, <td>59</td>, <td class=\"hidden-480\">0878</td>, <td><a href=\"../../../../view.aspx?EventID=sydneyhalfmarathon&amp;Edition=2001&amp;bib=0878\">CLINT MEYERS</a></td>, <td class=\"text-center\">01:18:10</td>, <td class=\"hidden-480 text-center\">59</td>, <td class=\"hidden-480 text-center\">M</td>, <td class=\"hidden-480 text-center\">57</td>, <td class=\"hidden-480 text-right\"><a class=\"btn green btn-xs text-right\" href=\"../../../../view.aspx?EventID=sydneyhalfmarathon&amp;Edition=2001&amp;bib=0878\"><i class=\"fa fa-play\"></i> view</a></td>, <td>60</td>, <td class=\"hidden-480\">4759</td>, <td><a href=\"../../../../view.aspx?EventID=sydneyhalfmarathon&amp;Edition=2001&amp;bib=4759\">SEVERINO FERNANDEZ</a></td>, <td class=\"text-center\">01:18:12</td>, <td class=\"hidden-480 text-center\">60</td>, <td class=\"hidden-480 text-center\">M</td>, <td class=\"hidden-480 text-center\">58</td>, <td class=\"hidden-480 text-right\"><a class=\"btn green btn-xs text-right\" href=\"../../../../view.aspx?EventID=sydneyhalfmarathon&amp;Edition=2001&amp;bib=4759\"><i class=\"fa fa-play\"></i> view</a></td>, <td>61</td>, <td class=\"hidden-480\">4547</td>, <td><a href=\"../../../../view.aspx?EventID=sydneyhalfmarathon&amp;Edition=2001&amp;bib=4547\">CHRIS RICHARDS</a></td>, <td class=\"text-center\">01:18:14</td>, <td class=\"hidden-480 text-center\">61</td>, <td class=\"hidden-480 text-center\">M</td>, <td class=\"hidden-480 text-center\">59</td>, <td class=\"hidden-480 text-right\"><a class=\"btn green btn-xs text-right\" href=\"../../../../view.aspx?EventID=sydneyhalfmarathon&amp;Edition=2001&amp;bib=4547\"><i class=\"fa fa-play\"></i> view</a></td>, <td>62</td>, <td class=\"hidden-480\">2112</td>, <td><a href=\"../../../../view.aspx?EventID=sydneyhalfmarathon&amp;Edition=2001&amp;bib=2112\">MATTHEW ANDERSON</a></td>, <td class=\"text-center\">01:18:16</td>, <td class=\"hidden-480 text-center\">62</td>, <td class=\"hidden-480 text-center\">M</td>, <td class=\"hidden-480 text-center\">60</td>, <td class=\"hidden-480 text-right\"><a class=\"btn green btn-xs text-right\" href=\"../../../../view.aspx?EventID=sydneyhalfmarathon&amp;Edition=2001&amp;bib=2112\"><i class=\"fa fa-play\"></i> view</a></td>, <td>63</td>, <td class=\"hidden-480\">3022</td>, <td><a href=\"../../../../view.aspx?EventID=sydneyhalfmarathon&amp;Edition=2001&amp;bib=3022\">SILVANO CADALT</a></td>, <td class=\"text-center\">01:18:22</td>, <td class=\"hidden-480 text-center\">63</td>, <td class=\"hidden-480 text-center\">M</td>, <td class=\"hidden-480 text-center\">61</td>, <td class=\"hidden-480 text-right\"><a class=\"btn green btn-xs text-right\" href=\"../../../../view.aspx?EventID=sydneyhalfmarathon&amp;Edition=2001&amp;bib=3022\"><i class=\"fa fa-play\"></i> view</a></td>, <td>64</td>, <td class=\"hidden-480\">4830</td>, <td><a href=\"../../../../view.aspx?EventID=sydneyhalfmarathon&amp;Edition=2001&amp;bib=4830\">MICHAEL RADECKI</a></td>, <td class=\"text-center\">01:18:28</td>, <td class=\"hidden-480 text-center\">64</td>, <td class=\"hidden-480 text-center\">M</td>, <td class=\"hidden-480 text-center\">62</td>, <td class=\"hidden-480 text-right\"><a class=\"btn green btn-xs text-right\" href=\"../../../../view.aspx?EventID=sydneyhalfmarathon&amp;Edition=2001&amp;bib=4830\"><i class=\"fa fa-play\"></i> view</a></td>, <td>65</td>, <td class=\"hidden-480\">3002</td>, <td><a href=\"../../../../view.aspx?EventID=sydneyhalfmarathon&amp;Edition=2001&amp;bib=3002\">ROWAN ALLNUTT</a></td>, <td class=\"text-center\">01:18:34</td>, <td class=\"hidden-480 text-center\">65</td>, <td class=\"hidden-480 text-center\">M</td>, <td class=\"hidden-480 text-center\">63</td>, <td class=\"hidden-480 text-right\"><a class=\"btn green btn-xs text-right\" href=\"../../../../view.aspx?EventID=sydneyhalfmarathon&amp;Edition=2001&amp;bib=3002\"><i class=\"fa fa-play\"></i> view</a></td>, <td>66</td>, <td class=\"hidden-480\">3799</td>, <td><a href=\"../../../../view.aspx?EventID=sydneyhalfmarathon&amp;Edition=2001&amp;bib=3799\">RENATO DANOREA</a></td>, <td class=\"text-center\">01:18:36</td>, <td class=\"hidden-480 text-center\">66</td>, <td class=\"hidden-480 text-center\">M</td>, <td class=\"hidden-480 text-center\">64</td>, <td class=\"hidden-480 text-right\"><a class=\"btn green btn-xs text-right\" href=\"../../../../view.aspx?EventID=sydneyhalfmarathon&amp;Edition=2001&amp;bib=3799\"><i class=\"fa fa-play\"></i> view</a></td>, <td>67</td>, <td class=\"hidden-480\">4489</td>, <td><a href=\"../../../../view.aspx?EventID=sydneyhalfmarathon&amp;Edition=2001&amp;bib=4489\">DARREN SALMON</a></td>, <td class=\"text-center\">01:18:44</td>, <td class=\"hidden-480 text-center\">67</td>, <td class=\"hidden-480 text-center\">M</td>, <td class=\"hidden-480 text-center\">65</td>, <td class=\"hidden-480 text-right\"><a class=\"btn green btn-xs text-right\" href=\"../../../../view.aspx?EventID=sydneyhalfmarathon&amp;Edition=2001&amp;bib=4489\"><i class=\"fa fa-play\"></i> view</a></td>, <td>68</td>, <td class=\"hidden-480\">3379</td>, <td><a href=\"../../../../view.aspx?EventID=sydneyhalfmarathon&amp;Edition=2001&amp;bib=3379\">TONY RUSSO</a></td>, <td class=\"text-center\">01:18:48</td>, <td class=\"hidden-480 text-center\">68</td>, <td class=\"hidden-480 text-center\">M</td>, <td class=\"hidden-480 text-center\">66</td>, <td class=\"hidden-480 text-right\"><a class=\"btn green btn-xs text-right\" href=\"../../../../view.aspx?EventID=sydneyhalfmarathon&amp;Edition=2001&amp;bib=3379\"><i class=\"fa fa-play\"></i> view</a></td>, <td>69</td>, <td class=\"hidden-480\">2433</td>, <td><a href=\"../../../../view.aspx?EventID=sydneyhalfmarathon&amp;Edition=2001&amp;bib=2433\">MARTIN CARPENTER</a></td>, <td class=\"text-center\">01:18:58</td>, <td class=\"hidden-480 text-center\">69</td>, <td class=\"hidden-480 text-center\">M</td>, <td class=\"hidden-480 text-center\">67</td>, <td class=\"hidden-480 text-right\"><a class=\"btn green btn-xs text-right\" href=\"../../../../view.aspx?EventID=sydneyhalfmarathon&amp;Edition=2001&amp;bib=2433\"><i class=\"fa fa-play\"></i> view</a></td>, <td>70</td>, <td class=\"hidden-480\">4153</td>, <td><a href=\"../../../../view.aspx?EventID=sydneyhalfmarathon&amp;Edition=2001&amp;bib=4153\">BRAD GEELAN</a></td>, <td class=\"text-center\">01:19:08</td>, <td class=\"hidden-480 text-center\">70</td>, <td class=\"hidden-480 text-center\">M</td>, <td class=\"hidden-480 text-center\">68</td>, <td class=\"hidden-480 text-right\"><a class=\"btn green btn-xs text-right\" href=\"../../../../view.aspx?EventID=sydneyhalfmarathon&amp;Edition=2001&amp;bib=4153\"><i class=\"fa fa-play\"></i> view</a></td>, <td>71</td>, <td class=\"hidden-480\">3598</td>, <td><a href=\"../../../../view.aspx?EventID=sydneyhalfmarathon&amp;Edition=2001&amp;bib=3598\">JOSE CARVALHO</a></td>, <td class=\"text-center\">01:19:12</td>, <td class=\"hidden-480 text-center\">71</td>, <td class=\"hidden-480 text-center\">M</td>, <td class=\"hidden-480 text-center\">69</td>, <td class=\"hidden-480 text-right\"><a class=\"btn green btn-xs text-right\" href=\"../../../../view.aspx?EventID=sydneyhalfmarathon&amp;Edition=2001&amp;bib=3598\"><i class=\"fa fa-play\"></i> view</a></td>, <td>72</td>, <td class=\"hidden-480\">4355</td>, <td><a href=\"../../../../view.aspx?EventID=sydneyhalfmarathon&amp;Edition=2001&amp;bib=4355\">GREG COY</a></td>, <td class=\"text-center\">01:19:12</td>, <td class=\"hidden-480 text-center\">71</td>, <td class=\"hidden-480 text-center\">M</td>, <td class=\"hidden-480 text-center\">69</td>, <td class=\"hidden-480 text-right\"><a class=\"btn green btn-xs text-right\" href=\"../../../../view.aspx?EventID=sydneyhalfmarathon&amp;Edition=2001&amp;bib=4355\"><i class=\"fa fa-play\"></i> view</a></td>, <td>73</td>, <td class=\"hidden-480\">2086</td>, <td><a href=\"../../../../view.aspx?EventID=sydneyhalfmarathon&amp;Edition=2001&amp;bib=2086\">PETER SHIRLEY</a></td>, <td class=\"text-center\">01:19:16</td>, <td class=\"hidden-480 text-center\">73</td>, <td class=\"hidden-480 text-center\">M</td>, <td class=\"hidden-480 text-center\">71</td>, <td class=\"hidden-480 text-right\"><a class=\"btn green btn-xs text-right\" href=\"../../../../view.aspx?EventID=sydneyhalfmarathon&amp;Edition=2001&amp;bib=2086\"><i class=\"fa fa-play\"></i> view</a></td>, <td>74</td>, <td class=\"hidden-480\">4784</td>, <td><a href=\"../../../../view.aspx?EventID=sydneyhalfmarathon&amp;Edition=2001&amp;bib=4784\">GREGORY OSBORNE</a></td>, <td class=\"text-center\">01:19:18</td>, <td class=\"hidden-480 text-center\">74</td>, <td class=\"hidden-480 text-center\">M</td>, <td class=\"hidden-480 text-center\">72</td>, <td class=\"hidden-480 text-right\"><a class=\"btn green btn-xs text-right\" href=\"../../../../view.aspx?EventID=sydneyhalfmarathon&amp;Edition=2001&amp;bib=4784\"><i class=\"fa fa-play\"></i> view</a></td>, <td>75</td>, <td class=\"hidden-480\">4399</td>, <td><a href=\"../../../../view.aspx?EventID=sydneyhalfmarathon&amp;Edition=2001&amp;bib=4399\">DAVID SCORZELLI</a></td>, <td class=\"text-center\">01:19:22</td>, <td class=\"hidden-480 text-center\">75</td>, <td class=\"hidden-480 text-center\">M</td>, <td class=\"hidden-480 text-center\">73</td>, <td class=\"hidden-480 text-right\"><a class=\"btn green btn-xs text-right\" href=\"../../../../view.aspx?EventID=sydneyhalfmarathon&amp;Edition=2001&amp;bib=4399\"><i class=\"fa fa-play\"></i> view</a></td>, <td>76</td>, <td class=\"hidden-480\">0023</td>, <td><a href=\"../../../../view.aspx?EventID=sydneyhalfmarathon&amp;Edition=2001&amp;bib=0023\">ROBERT BATTOCCHIO</a></td>, <td class=\"text-center\">01:19:26</td>, <td class=\"hidden-480 text-center\">76</td>, <td class=\"hidden-480 text-center\">M</td>, <td class=\"hidden-480 text-center\">74</td>, <td class=\"hidden-480 text-right\"><a class=\"btn green btn-xs text-right\" href=\"../../../../view.aspx?EventID=sydneyhalfmarathon&amp;Edition=2001&amp;bib=0023\"><i class=\"fa fa-play\"></i> view</a></td>, <td>77</td>, <td class=\"hidden-480\">1928</td>, <td><a href=\"../../../../view.aspx?EventID=sydneyhalfmarathon&amp;Edition=2001&amp;bib=1928\">UROS KANCILIJA</a></td>, <td class=\"text-center\">01:19:28</td>, <td class=\"hidden-480 text-center\">77</td>, <td class=\"hidden-480 text-center\">M</td>, <td class=\"hidden-480 text-center\">75</td>, <td class=\"hidden-480 text-right\"><a class=\"btn green btn-xs text-right\" href=\"../../../../view.aspx?EventID=sydneyhalfmarathon&amp;Edition=2001&amp;bib=1928\"><i class=\"fa fa-play\"></i> view</a></td>, <td>78</td>, <td class=\"hidden-480\">4184</td>, <td><a href=\"../../../../view.aspx?EventID=sydneyhalfmarathon&amp;Edition=2001&amp;bib=4184\">ADAM DIMECH</a></td>, <td class=\"text-center\">01:19:32</td>, <td class=\"hidden-480 text-center\">78</td>, <td class=\"hidden-480 text-center\">M</td>, <td class=\"hidden-480 text-center\">76</td>, <td class=\"hidden-480 text-right\"><a class=\"btn green btn-xs text-right\" href=\"../../../../view.aspx?EventID=sydneyhalfmarathon&amp;Edition=2001&amp;bib=4184\"><i class=\"fa fa-play\"></i> view</a></td>, <td>79</td>, <td class=\"hidden-480\">3856</td>, <td><a href=\"../../../../view.aspx?EventID=sydneyhalfmarathon&amp;Edition=2001&amp;bib=3856\">LORRI DI LUCCHIO</a></td>, <td class=\"text-center\">01:19:34</td>, <td class=\"hidden-480 text-center\">79</td>, <td class=\"hidden-480 text-center\">M</td>, <td class=\"hidden-480 text-center\">77</td>, <td class=\"hidden-480 text-right\"><a class=\"btn green btn-xs text-right\" href=\"../../../../view.aspx?EventID=sydneyhalfmarathon&amp;Edition=2001&amp;bib=3856\"><i class=\"fa fa-play\"></i> view</a></td>, <td>80</td>, <td class=\"hidden-480\">0118</td>, <td><a href=\"../../../../view.aspx?EventID=sydneyhalfmarathon&amp;Edition=2001&amp;bib=0118\">PETE COWARD</a></td>, <td class=\"text-center\">01:19:38</td>, <td class=\"hidden-480 text-center\">80</td>, <td class=\"hidden-480 text-center\">M</td>, <td class=\"hidden-480 text-center\">78</td>, <td class=\"hidden-480 text-right\"><a class=\"btn green btn-xs text-right\" href=\"../../../../view.aspx?EventID=sydneyhalfmarathon&amp;Edition=2001&amp;bib=0118\"><i class=\"fa fa-play\"></i> view</a></td>, <td>81</td>, <td class=\"hidden-480\">1244</td>, <td><a href=\"../../../../view.aspx?EventID=sydneyhalfmarathon&amp;Edition=2001&amp;bib=1244\">JAMES JEFFERY</a></td>, <td class=\"text-center\">01:19:40</td>, <td class=\"hidden-480 text-center\">81</td>, <td class=\"hidden-480 text-center\">M</td>, <td class=\"hidden-480 text-center\">79</td>, <td class=\"hidden-480 text-right\"><a class=\"btn green btn-xs text-right\" href=\"../../../../view.aspx?EventID=sydneyhalfmarathon&amp;Edition=2001&amp;bib=1244\"><i class=\"fa fa-play\"></i> view</a></td>, <td>82</td>, <td class=\"hidden-480\">3020</td>, <td><a href=\"../../../../view.aspx?EventID=sydneyhalfmarathon&amp;Edition=2001&amp;bib=3020\">PAUL FISHER</a></td>, <td class=\"text-center\">01:19:40</td>, <td class=\"hidden-480 text-center\">81</td>, <td class=\"hidden-480 text-center\">M</td>, <td class=\"hidden-480 text-center\">79</td>, <td class=\"hidden-480 text-right\"><a class=\"btn green btn-xs text-right\" href=\"../../../../view.aspx?EventID=sydneyhalfmarathon&amp;Edition=2001&amp;bib=3020\"><i class=\"fa fa-play\"></i> view</a></td>, <td>83</td>, <td class=\"hidden-480\">4210</td>, <td><a href=\"../../../../view.aspx?EventID=sydneyhalfmarathon&amp;Edition=2001&amp;bib=4210\">GREG DONOVAN</a></td>, <td class=\"text-center\">01:19:44</td>, <td class=\"hidden-480 text-center\">83</td>, <td class=\"hidden-480 text-center\">M</td>, <td class=\"hidden-480 text-center\">81</td>, <td class=\"hidden-480 text-right\"><a class=\"btn green btn-xs text-right\" href=\"../../../../view.aspx?EventID=sydneyhalfmarathon&amp;Edition=2001&amp;bib=4210\"><i class=\"fa fa-play\"></i> view</a></td>, <td>84</td>, <td class=\"hidden-480\">4285</td>, <td><a href=\"../../../../view.aspx?EventID=sydneyhalfmarathon&amp;Edition=2001&amp;bib=4285\">ROSS WALKER</a></td>, <td class=\"text-center\">01:19:44</td>, <td class=\"hidden-480 text-center\">83</td>, <td class=\"hidden-480 text-center\">M</td>, <td class=\"hidden-480 text-center\">81</td>, <td class=\"hidden-480 text-right\"><a class=\"btn green btn-xs text-right\" href=\"../../../../view.aspx?EventID=sydneyhalfmarathon&amp;Edition=2001&amp;bib=4285\"><i class=\"fa fa-play\"></i> view</a></td>, <td>85</td>, <td class=\"hidden-480\">2031</td>, <td><a href=\"../../../../view.aspx?EventID=sydneyhalfmarathon&amp;Edition=2001&amp;bib=2031\">GRANT WILLATT</a></td>, <td class=\"text-center\">01:19:54</td>, <td class=\"hidden-480 text-center\">85</td>, <td class=\"hidden-480 text-center\">M</td>, <td class=\"hidden-480 text-center\">83</td>, <td class=\"hidden-480 text-right\"><a class=\"btn green btn-xs text-right\" href=\"../../../../view.aspx?EventID=sydneyhalfmarathon&amp;Edition=2001&amp;bib=2031\"><i class=\"fa fa-play\"></i> view</a></td>, <td>86</td>, <td class=\"hidden-480\">3855</td>, <td><a href=\"../../../../view.aspx?EventID=sydneyhalfmarathon&amp;Edition=2001&amp;bib=3855\">SHANNON BARR</a></td>, <td class=\"text-center\">01:19:56</td>, <td class=\"hidden-480 text-center\">86</td>, <td class=\"hidden-480 text-center\">M</td>, <td class=\"hidden-480 text-center\">84</td>, <td class=\"hidden-480 text-right\"><a class=\"btn green btn-xs text-right\" href=\"../../../../view.aspx?EventID=sydneyhalfmarathon&amp;Edition=2001&amp;bib=3855\"><i class=\"fa fa-play\"></i> view</a></td>, <td>87</td>, <td class=\"hidden-480\">0426</td>, <td><a href=\"../../../../view.aspx?EventID=sydneyhalfmarathon&amp;Edition=2001&amp;bib=0426\">GREG HATFIELD</a></td>, <td class=\"text-center\">01:19:58</td>, <td class=\"hidden-480 text-center\">87</td>, <td class=\"hidden-480 text-center\">M</td>, <td class=\"hidden-480 text-center\">85</td>, <td class=\"hidden-480 text-right\"><a class=\"btn green btn-xs text-right\" href=\"../../../../view.aspx?EventID=sydneyhalfmarathon&amp;Edition=2001&amp;bib=0426\"><i class=\"fa fa-play\"></i> view</a></td>, <td>88</td>, <td class=\"hidden-480\">4398</td>, <td><a href=\"../../../../view.aspx?EventID=sydneyhalfmarathon&amp;Edition=2001&amp;bib=4398\">FRANK SCORZELLI</a></td>, <td class=\"text-center\">01:20:02</td>, <td class=\"hidden-480 text-center\">88</td>, <td class=\"hidden-480 text-center\">M</td>, <td class=\"hidden-480 text-center\">86</td>, <td class=\"hidden-480 text-right\"><a class=\"btn green btn-xs text-right\" href=\"../../../../view.aspx?EventID=sydneyhalfmarathon&amp;Edition=2001&amp;bib=4398\"><i class=\"fa fa-play\"></i> view</a></td>, <td>89</td>, <td class=\"hidden-480\">4700</td>, <td><a href=\"../../../../view.aspx?EventID=sydneyhalfmarathon&amp;Edition=2001&amp;bib=4700\">DAVID BAIGENT</a></td>, <td class=\"text-center\">01:20:10</td>, <td class=\"hidden-480 text-center\">89</td>, <td class=\"hidden-480 text-center\">M</td>, <td class=\"hidden-480 text-center\">87</td>, <td class=\"hidden-480 text-right\"><a class=\"btn green btn-xs text-right\" href=\"../../../../view.aspx?EventID=sydneyhalfmarathon&amp;Edition=2001&amp;bib=4700\"><i class=\"fa fa-play\"></i> view</a></td>, <td>90</td>, <td class=\"hidden-480\">0097</td>, <td><a href=\"../../../../view.aspx?EventID=sydneyhalfmarathon&amp;Edition=2001&amp;bib=0097\">JENNIFER HINDMARSH</a></td>, <td class=\"text-center\">01:20:16</td>, <td class=\"hidden-480 text-center\">90</td>, <td class=\"hidden-480 text-center\">F</td>, <td class=\"hidden-480 text-center\">3</td>, <td class=\"hidden-480 text-right\"><a class=\"btn green btn-xs text-right\" href=\"../../../../view.aspx?EventID=sydneyhalfmarathon&amp;Edition=2001&amp;bib=0097\"><i class=\"fa fa-play\"></i> view</a></td>, <td>91</td>, <td class=\"hidden-480\">4956</td>, <td><a href=\"../../../../view.aspx?EventID=sydneyhalfmarathon&amp;Edition=2001&amp;bib=4956\">WARWICK KENEALLY</a></td>, <td class=\"text-center\">01:20:20</td>, <td class=\"hidden-480 text-center\">91</td>, <td class=\"hidden-480 text-center\">M</td>, <td class=\"hidden-480 text-center\">88</td>, <td class=\"hidden-480 text-right\"><a class=\"btn green btn-xs text-right\" href=\"../../../../view.aspx?EventID=sydneyhalfmarathon&amp;Edition=2001&amp;bib=4956\"><i class=\"fa fa-play\"></i> view</a></td>, <td>92</td>, <td class=\"hidden-480\">3728</td>, <td><a href=\"../../../../view.aspx?EventID=sydneyhalfmarathon&amp;Edition=2001&amp;bib=3728\">KENT HUDSON</a></td>, <td class=\"text-center\">01:20:32</td>, <td class=\"hidden-480 text-center\">92</td>, <td class=\"hidden-480 text-center\">M</td>, <td class=\"hidden-480 text-center\">89</td>, <td class=\"hidden-480 text-right\"><a class=\"btn green btn-xs text-right\" href=\"../../../../view.aspx?EventID=sydneyhalfmarathon&amp;Edition=2001&amp;bib=3728\"><i class=\"fa fa-play\"></i> view</a></td>, <td>93</td>, <td class=\"hidden-480\">1842</td>, <td><a href=\"../../../../view.aspx?EventID=sydneyhalfmarathon&amp;Edition=2001&amp;bib=1842\">THAMAL COORAY</a></td>, <td class=\"text-center\">01:20:42</td>, <td class=\"hidden-480 text-center\">93</td>, <td class=\"hidden-480 text-center\">M</td>, <td class=\"hidden-480 text-center\">90</td>, <td class=\"hidden-480 text-right\"><a class=\"btn green btn-xs text-right\" href=\"../../../../view.aspx?EventID=sydneyhalfmarathon&amp;Edition=2001&amp;bib=1842\"><i class=\"fa fa-play\"></i> view</a></td>, <td>94</td>, <td class=\"hidden-480\">2667</td>, <td><a href=\"../../../../view.aspx?EventID=sydneyhalfmarathon&amp;Edition=2001&amp;bib=2667\">JOSHUA PETERS</a></td>, <td class=\"text-center\">01:20:42</td>, <td class=\"hidden-480 text-center\">93</td>, <td class=\"hidden-480 text-center\">M</td>, <td class=\"hidden-480 text-center\">90</td>, <td class=\"hidden-480 text-right\"><a class=\"btn green btn-xs text-right\" href=\"../../../../view.aspx?EventID=sydneyhalfmarathon&amp;Edition=2001&amp;bib=2667\"><i class=\"fa fa-play\"></i> view</a></td>, <td>95</td>, <td class=\"hidden-480\">0047</td>, <td><a href=\"../../../../view.aspx?EventID=sydneyhalfmarathon&amp;Edition=2001&amp;bib=0047\">BELINDA MARTIN</a></td>, <td class=\"text-center\">01:21:00</td>, <td class=\"hidden-480 text-center\">95</td>, <td class=\"hidden-480 text-center\">F</td>, <td class=\"hidden-480 text-center\">4</td>, <td class=\"hidden-480 text-right\"><a class=\"btn green btn-xs text-right\" href=\"../../../../view.aspx?EventID=sydneyhalfmarathon&amp;Edition=2001&amp;bib=0047\"><i class=\"fa fa-play\"></i> view</a></td>, <td>96</td>, <td class=\"hidden-480\">0666</td>, <td><a href=\"../../../../view.aspx?EventID=sydneyhalfmarathon&amp;Edition=2001&amp;bib=0666\">TIMOTHY JAMES CRINNION</a></td>, <td class=\"text-center\">01:21:02</td>, <td class=\"hidden-480 text-center\">96</td>, <td class=\"hidden-480 text-center\">M</td>, <td class=\"hidden-480 text-center\">92</td>, <td class=\"hidden-480 text-right\"><a class=\"btn green btn-xs text-right\" href=\"../../../../view.aspx?EventID=sydneyhalfmarathon&amp;Edition=2001&amp;bib=0666\"><i class=\"fa fa-play\"></i> view</a></td>, <td>97</td>, <td class=\"hidden-480\">1666</td>, <td><a href=\"../../../../view.aspx?EventID=sydneyhalfmarathon&amp;Edition=2001&amp;bib=1666\">ANDREW DOUGLAS</a></td>, <td class=\"text-center\">01:21:02</td>, <td class=\"hidden-480 text-center\">96</td>, <td class=\"hidden-480 text-center\">M</td>, <td class=\"hidden-480 text-center\">92</td>, <td class=\"hidden-480 text-right\"><a class=\"btn green btn-xs text-right\" href=\"../../../../view.aspx?EventID=sydneyhalfmarathon&amp;Edition=2001&amp;bib=1666\"><i class=\"fa fa-play\"></i> view</a></td>, <td>98</td>, <td class=\"hidden-480\">5065</td>, <td><a href=\"../../../../view.aspx?EventID=sydneyhalfmarathon&amp;Edition=2001&amp;bib=5065\">SIMON SMIDT</a></td>, <td class=\"text-center\">01:21:02</td>, <td class=\"hidden-480 text-center\">96</td>, <td class=\"hidden-480 text-center\">M</td>, <td class=\"hidden-480 text-center\">92</td>, <td class=\"hidden-480 text-right\"><a class=\"btn green btn-xs text-right\" href=\"../../../../view.aspx?EventID=sydneyhalfmarathon&amp;Edition=2001&amp;bib=5065\"><i class=\"fa fa-play\"></i> view</a></td>, <td>99</td>, <td class=\"hidden-480\">2680</td>, <td><a href=\"../../../../view.aspx?EventID=sydneyhalfmarathon&amp;Edition=2001&amp;bib=2680\">PHILIP WOODS</a></td>, <td class=\"text-center\">01:21:24</td>, <td class=\"hidden-480 text-center\">99</td>, <td class=\"hidden-480 text-center\">M</td>, <td class=\"hidden-480 text-center\">95</td>, <td class=\"hidden-480 text-right\"><a class=\"btn green btn-xs text-right\" href=\"../../../../view.aspx?EventID=sydneyhalfmarathon&amp;Edition=2001&amp;bib=2680\"><i class=\"fa fa-play\"></i> view</a></td>, <td>100</td>, <td class=\"hidden-480\">4474</td>, <td><a href=\"../../../../view.aspx?EventID=sydneyhalfmarathon&amp;Edition=2001&amp;bib=4474\">MARCELO ROSSI</a></td>, <td class=\"text-center\">01:21:26</td>, <td class=\"hidden-480 text-center\">100</td>, <td class=\"hidden-480 text-center\">M</td>, <td class=\"hidden-480 text-center\">96</td>, <td class=\"hidden-480 text-right\"><a class=\"btn green btn-xs text-right\" href=\"../../../../view.aspx?EventID=sydneyhalfmarathon&amp;Edition=2001&amp;bib=4474\"><i class=\"fa fa-play\"></i> view</a></td>'\n",
    "soup2 = BeautifulSoup(markup, \"lxml\")\n"
   ]
  },
  {
   "cell_type": "code",
   "execution_count": null,
   "metadata": {
    "scrolled": true
   },
   "outputs": [],
   "source": [
    "soup2.find_all('td')"
   ]
  },
  {
   "cell_type": "code",
   "execution_count": null,
   "metadata": {},
   "outputs": [],
   "source": [
    "len(soup2.find_all('td'))"
   ]
  },
  {
   "cell_type": "code",
   "execution_count": null,
   "metadata": {},
   "outputs": [],
   "source": [
    "soup2.get_text()"
   ]
  },
  {
   "cell_type": "code",
   "execution_count": null,
   "metadata": {},
   "outputs": [],
   "source": [
    "my_data = soup2.get_text()\n",
    "\n",
    "import csv\n",
    "\n",
    "result = my_data\n",
    "csvfile = \"output.csv\"\n",
    "\n",
    "#Assuming res is a flat list\n",
    "with open(csvfile, \"w\") as output:\n",
    "    writer = csv.writer(output, lineterminator=' ')\n",
    "    for val in result:\n",
    "        writer.writerow([val])    \n",
    "\n",
    "#Assuming res is a list of lists\n",
    "#with open(csvfile, \"w\") as output:\n",
    "#    writer = csv.writer(output, lineterminator=',  view')\n",
    "#    writer.writerows(res)"
   ]
  },
  {
   "cell_type": "code",
   "execution_count": null,
   "metadata": {},
   "outputs": [],
   "source": [
    "table = soup.find_all('table')\n",
    "type(table)"
   ]
  },
  {
   "cell_type": "code",
   "execution_count": null,
   "metadata": {},
   "outputs": [],
   "source": [
    "trArray = table[0].find_all('tr')"
   ]
  },
  {
   "cell_type": "code",
   "execution_count": null,
   "metadata": {},
   "outputs": [],
   "source": [
    "headers = trArray[0].find_all('th')\n",
    "labels = []\n",
    "for i in range (0, len(headers)):\n",
    "    labels.append(headers[i].string)\n",
    "print(labels)"
   ]
  },
  {
   "cell_type": "code",
   "execution_count": null,
   "metadata": {},
   "outputs": [],
   "source": [
    "tdList = trArray[1].find_all('td')\n",
    "rows = []\n",
    "for i in range (0, len(tdList)):\n",
    "    rows.append(tdList[i].string)\n",
    "print(rows)"
   ]
  },
  {
   "cell_type": "code",
   "execution_count": null,
   "metadata": {},
   "outputs": [],
   "source": [
    "dic = {}\n",
    "for i in range (0, len(tdList)):\n",
    "    dic[labels[i]] = rows[i]\n",
    "dic"
   ]
  },
  {
   "cell_type": "code",
   "execution_count": null,
   "metadata": {},
   "outputs": [],
   "source": [
    "import pandas as pd\n",
    "from collections import OrderedDict\n",
    "from datetime import date"
   ]
  },
  {
   "cell_type": "code",
   "execution_count": null,
   "metadata": {},
   "outputs": [],
   "source": [
    "DataFrame = pd.DataFrame([dic])\n",
    "DataFrame.head()"
   ]
  },
  {
   "cell_type": "code",
   "execution_count": null,
   "metadata": {},
   "outputs": [],
   "source": [
    "DataFrame.to_csv('output.csv')"
   ]
  },
  {
   "cell_type": "code",
   "execution_count": null,
   "metadata": {},
   "outputs": [],
   "source": [
    "#Loop on rows j\n",
    "rows = []\n",
    "entries = []\n",
    "for j in range (1, 5):\n",
    "    tdList = trArray[j].find_all('td')\n",
    "    rows.append(tdList[j].string)\n",
    "    #Loop on columns i\n",
    "    for i in range (0, len(tdList)):\n",
    "        entries.append(tdList[i].string)\n",
    "print(entries)"
   ]
  },
  {
   "cell_type": "code",
   "execution_count": null,
   "metadata": {},
   "outputs": [],
   "source": [
    "# Loop on rows\n",
    "rows = []\n",
    "for i in range(1, len(trArray)):\n",
    "    entries = {}\n",
    "    tdList = trArray[i].find_all('td')\n",
    "    \n",
    "    #Loop on entries\n",
    "    for j in range(0, len(tdList)):\n",
    "        entries[labels[j]] = tdList[j].string\n",
    "        \n",
    "    rows.append(entries)"
   ]
  },
  {
   "cell_type": "code",
   "execution_count": null,
   "metadata": {},
   "outputs": [],
   "source": [
    "df = pd.DataFrame(rows)\n",
    "df.head()"
   ]
  },
  {
   "cell_type": "code",
   "execution_count": null,
   "metadata": {},
   "outputs": [],
   "source": [
    "df.to_csv('output.csv')"
   ]
  },
  {
   "cell_type": "code",
   "execution_count": null,
   "metadata": {},
   "outputs": [],
   "source": [
    "# Reinitialization of the settings \n",
    "\n",
    "r = requests.get('https://secure.tiktok.biz/results/list/sydneyhalfmarathon/2001/21KM/')"
   ]
  },
  {
   "cell_type": "code",
   "execution_count": null,
   "metadata": {},
   "outputs": [],
   "source": [
    "# Reinitialization of the settings \n",
    "\n",
    "soup = BeautifulSoup(r.text, 'html.parser')\n",
    "tableContent = soup.find('table')\n",
    "print(tableContent)"
   ]
  },
  {
   "cell_type": "code",
   "execution_count": null,
   "metadata": {
    "scrolled": true
   },
   "outputs": [],
   "source": [
    "sf.HTMLtableToDic(tableContent)"
   ]
  },
  {
   "cell_type": "code",
   "execution_count": null,
   "metadata": {},
   "outputs": [],
   "source": [
    "df = pd.DataFrame(rows)\n",
    "df.head()\n",
    "df.to_csv('output.csv')"
   ]
  }
 ],
 "metadata": {
  "kernelspec": {
   "display_name": "Python 3",
   "language": "python",
   "name": "python3"
  },
  "language_info": {
   "codemirror_mode": {
    "name": "ipython",
    "version": 3
   },
   "file_extension": ".py",
   "mimetype": "text/x-python",
   "name": "python",
   "nbconvert_exporter": "python",
   "pygments_lexer": "ipython3",
   "version": "3.6.4"
  }
 },
 "nbformat": 4,
 "nbformat_minor": 2
}
