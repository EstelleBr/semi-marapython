{
 "cells": [
  {
   "cell_type": "markdown",
   "metadata": {},
   "source": [
    "## Importing Libraries"
   ]
  },
  {
   "cell_type": "code",
   "execution_count": null,
   "metadata": {
    "collapsed": true
   },
   "outputs": [],
   "source": [
    "import numpy as np\n",
    "import pandas as pd\n",
    "import requests\n",
    "from bs4 import BeautifulSoup"
   ]
  },
  {
   "cell_type": "markdown",
   "metadata": {},
   "source": [
    "## Parameters"
   ]
  },
  {
   "cell_type": "code",
   "execution_count": null,
   "metadata": {
    "collapsed": true
   },
   "outputs": [],
   "source": [
    "url_base = 'https://secure.tiktok.biz/results/list/sydneyhalfmarathon/2015/21KM'\n",
    "n_max = 200\n",
    "data_body = {'__EVENTTARGET': 'ctl00$pagePlaceHolder$btnNextT', '__VIEWSTATE': ''}"
   ]
  },
  {
   "cell_type": "markdown",
   "metadata": {},
   "source": [
    "## Scraping"
   ]
  },
  {
   "cell_type": "code",
   "execution_count": null,
   "metadata": {},
   "outputs": [],
   "source": [
    "# First request performed by a HTTP GET call\n",
    "r = requests.get(url_base)\n",
    "\n",
    "# Check if the website is available\n",
    "status_ok = True\n",
    "if (r.status_code == 200):\n",
    "    print('First request succeeded')\n",
    "    status_ok = True\n",
    "else:\n",
    "    print('First request failed')\n",
    "    status_ok = False\n",
    "\n",
    "# Parsing of useful data\n",
    "soup = BeautifulSoup(r.content, 'html.parser')\n",
    "state = soup.find(id=\"__VIEWSTATE\")['value']\n",
    "data_body['__VIEWSTATE'] = state\n",
    "\n",
    "# Here we get the first table of the HTML page\n",
    "table = soup.find('table')\n",
    "print(table.find_all('td')[0]) # to remove, just for the example\n",
    "\n",
    "i = 1;\n",
    "while(status_ok):\n",
    "    \n",
    "    # Perform a new request by a HTTP POST call\n",
    "    r = requests.post(url_base, data = data_body)\n",
    "    \n",
    "    if (r.status_code == 200):\n",
    "        \n",
    "        # Parsing of useful data\n",
    "        soup = BeautifulSoup(r.content, 'html.parser')\n",
    "        state = soup.find(id=\"__VIEWSTATE\")['value']\n",
    "        button = soup.find(id='ctl00_pagePlaceHolder_btnNextT')\n",
    "        has_no_next = button.has_attr('disabled')\n",
    "        data_body['__VIEWSTATE'] = state\n",
    "\n",
    "        # Here we get the first table of the HTML page\n",
    "        table = soup.find('table')\n",
    "        print(table.find_all('td')[0]) # to remove, just for the example\n",
    "    \n",
    "    else:\n",
    "        print('A request fails')\n",
    "        status_ok = False\n",
    "\n",
    "    if (i >= n_max):\n",
    "        status_ok = False\n",
    "        \n",
    "    if (has_no_next):\n",
    "        status_ok = False\n",
    "        \n",
    "    i += 1\n"
   ]
  },
  {
   "cell_type": "code",
   "execution_count": null,
   "metadata": {
    "collapsed": true
   },
   "outputs": [],
   "source": []
  }
 ],
 "metadata": {
  "kernelspec": {
   "display_name": "Python [conda root]",
   "language": "python",
   "name": "conda-root-py"
  },
  "language_info": {
   "codemirror_mode": {
    "name": "ipython",
    "version": 3
   },
   "file_extension": ".py",
   "mimetype": "text/x-python",
   "name": "python",
   "nbconvert_exporter": "python",
   "pygments_lexer": "ipython3",
   "version": "3.6.2"
  }
 },
 "nbformat": 4,
 "nbformat_minor": 2
}
