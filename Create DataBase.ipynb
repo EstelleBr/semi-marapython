{
 "cells": [
  {
   "cell_type": "code",
   "execution_count": null,
   "metadata": {},
   "outputs": [],
   "source": [
    "import sqlite3\n",
    "import pandas as pd\n",
    "from tqdm import tqdm_notebook as tqdm"
   ]
  },
  {
   "cell_type": "code",
   "execution_count": null,
   "metadata": {},
   "outputs": [],
   "source": [
    "# Connexion to the database\n",
    "sqlite_file = 'Database/test.sqlite'\n",
    "conn = sqlite3.connect(sqlite_file)\n",
    "c = conn.cursor()"
   ]
  },
  {
   "cell_type": "code",
   "execution_count": null,
   "metadata": {},
   "outputs": [],
   "source": [
    "myTable = 'all_results'\n",
    "createTable = 'CREATE TABLE {} (id INTEGER PRIMARY KEY, year INTEGER, bib INTEGER, name TEXT, gender TEXT, finish_time TEXT,  net_time TEXT, place INTEGER, place_by_gender INTEGER, place_by_division INTEGER, division_5year TEXT, division_10year TEXT)'.format(myTable)\n",
    "dropTable = 'DROP TABLE  {} '.format(myTable)"
   ]
  },
  {
   "cell_type": "code",
   "execution_count": null,
   "metadata": {
    "scrolled": true
   },
   "outputs": [],
   "source": [
    "c.execute(createTable)"
   ]
  },
  {
   "cell_type": "code",
   "execution_count": null,
   "metadata": {},
   "outputs": [],
   "source": [
    "yearValue = 2006\n",
    "\n",
    "file = 'data/output_' + str(yearValue) + '.csv'\n",
    "df = pd.read_csv(file)\n",
    "df.head()"
   ]
  },
  {
   "cell_type": "code",
   "execution_count": null,
   "metadata": {
    "scrolled": true
   },
   "outputs": [],
   "source": [
    "for yearValue in tqdm(range (2001, 2018)):\n",
    "    file = 'data/output_' + str(yearValue) + '.csv'\n",
    "    df = pd.read_csv(file)\n",
    "    max = df.shape[0] - 1\n",
    "    \n",
    "    \n",
    "    for i in range (0, max):\n",
    "        row = df.iloc[i,:]\n",
    "        bibValue = row['Bib']\n",
    "\n",
    "        if (yearValue > 2010):\n",
    "            division10yValue = row['Division']\n",
    "            division5yValue = 'null'\n",
    "        elif (yearValue < 2008):\n",
    "            division5yValue = 'null'\n",
    "            division10yValue = 'null'\n",
    "        else:\n",
    "            division5yValue = row['Division']\n",
    "            division10yValue = 'null'\n",
    "\n",
    "        finishTimeValue = row['Finish Time']\n",
    "\n",
    "        if ('Gender' in row):\n",
    "\n",
    "            placeByGenderValue = row['G/Pl']\n",
    "            genderValue = row['Gender']\n",
    "        else:\n",
    "            placeByGenderValue = 'null'\n",
    "            genderValue = 'null'\n",
    "\n",
    "        if (yearValue < 2008):\n",
    "            placeByDivision = 'null'\n",
    "        else:\n",
    "            placeByDivision = row['D/Pl']\n",
    "\n",
    "\n",
    "        nameValue = row['Name']\n",
    "        nameValue = nameValue.replace('\"', '')\n",
    "\n",
    "        if ('Net Time' in row):\n",
    "            netTimeValue = row['Net Time']\n",
    "        else:\n",
    "            netTimeValue = 'null'\n",
    "\n",
    "        placeValue = row['Place']\n",
    "\n",
    "        #print(i)\n",
    "\n",
    "        if pd.isnull(bibValue):\n",
    "            bibValue = 'null'\n",
    "\n",
    "        if pd.isnull(placeByDivision):\n",
    "            placeByDivision = 'null'\n",
    "\n",
    "        if pd.isnull(division10yValue):\n",
    "            division10yValue = 'null'\n",
    "        else: \n",
    "            division10yValue = '\"' + division10yValue + '\"'\n",
    "\n",
    "        if pd.isnull(division5yValue):\n",
    "            division5yValue = 'null'\n",
    "        else: \n",
    "            division5yValue = '\"' + division5yValue + '\"'\n",
    "\n",
    "        if pd.isnull(finishTimeValue):\n",
    "            finishTimeValue = 'null'\n",
    "        else: \n",
    "            finishTimeValue = '\"' + finishTimeValue + '\"'\n",
    "\n",
    "        if pd.isnull(netTimeValue):\n",
    "            netTimeValue = 'null'\n",
    "        else: \n",
    "            netTimeValue = '\"' + netTimeValue + '\"'\n",
    "\n",
    "        if pd.isnull(placeByGenderValue):\n",
    "            placeByGenderValue = 'null'\n",
    "\n",
    "        if pd.isnull(genderValue):\n",
    "            genderValue = 'null'\n",
    "        else: \n",
    "            genderValue = '\"' + genderValue + '\"'\n",
    "\n",
    "        if pd.isnull(nameValue):\n",
    "            nameValue = 'null'\n",
    "        else: \n",
    "            nameValue = '\"' + nameValue + '\"'\n",
    "\n",
    "        if pd.isnull(placeValue):\n",
    "            placeValue = 'null'\n",
    "\n",
    "\n",
    "        insertRow = 'INSERT INTO {} (year, bib, name, gender, finish_time, net_time, place, place_by_gender, \\\n",
    "        place_by_division, division_10year, division_5year) VALUES ({},{},{},{},{},{},{},{},{},{},{})'\\\n",
    "        .format(myTable, yearValue, bibValue, nameValue, genderValue, finishTimeValue, netTimeValue, placeValue,\\\n",
    "                placeByGenderValue, placeByDivision, division10yValue, division5yValue)\n",
    "        #print(insertRow)\n",
    "\n",
    "        c.execute(insertRow)"
   ]
  },
  {
   "cell_type": "code",
   "execution_count": null,
   "metadata": {},
   "outputs": [],
   "source": [
    "# Committing changes and closing the connection to the database file\n",
    "#c.execute(dropTable)\n",
    "conn.commit()\n",
    "conn.close()"
   ]
  }
 ],
 "metadata": {
  "kernelspec": {
   "display_name": "Python 3",
   "language": "python",
   "name": "python3"
  },
  "language_info": {
   "codemirror_mode": {
    "name": "ipython",
    "version": 3
   },
   "file_extension": ".py",
   "mimetype": "text/x-python",
   "name": "python",
   "nbconvert_exporter": "python",
   "pygments_lexer": "ipython3",
   "version": "3.6.4"
  }
 },
 "nbformat": 4,
 "nbformat_minor": 2
}
